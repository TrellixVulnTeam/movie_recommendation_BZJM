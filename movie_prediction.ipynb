{
 "cells": [
  {
   "cell_type": "code",
   "execution_count": 1,
   "id": "5a2775c5",
   "metadata": {},
   "outputs": [
    {
     "name": "stderr",
     "output_type": "stream",
     "text": [
      "d:\\movie_recommendation\\mre\\lib\\site-packages\\IPython\\core\\interactiveshell.py:3441: DtypeWarning: Columns (3) have mixed types.Specify dtype option on import or set low_memory=False.\n",
      "  exec(code_obj, self.user_global_ns, self.user_ns)\n"
     ]
    }
   ],
   "source": [
    "import pandas as pd\n",
    "\n",
    "data = pd.read_csv(\"IMDb_movies.csv\")"
   ]
  },
  {
   "cell_type": "code",
   "execution_count": 2,
   "id": "98c2b1b2",
   "metadata": {},
   "outputs": [
    {
     "data": {
      "text/plain": [
       "year        0\n",
       "duration    0\n",
       "language    0\n",
       "genre       0\n",
       "country     0\n",
       "title       0\n",
       "dtype: int64"
      ]
     },
     "execution_count": 2,
     "metadata": {},
     "output_type": "execute_result"
    }
   ],
   "source": [
    "data = data[[\"year\", \"duration\",\"language\",\"genre\",\"country\",\"title\"]]\n",
    "\n",
    "data = data.dropna()\n",
    "data.isnull().sum()"
   ]
  },
  {
   "cell_type": "code",
   "execution_count": 3,
   "id": "427a504b",
   "metadata": {},
   "outputs": [
    {
     "data": {
      "text/plain": [
       "array([1894, 1906, 1912, 1911, 1919, 1913, 1914, 1915, 1916, 1917, 1918,\n",
       "       1920, 1921, 1924, 1922, 1923, 1925, 1926, 1935, 1927, 1928, 1983,\n",
       "       1929, 1930, 1931, 1932, 1937, 1938, 1933, 1934, 1936, 1940, 1939,\n",
       "       1942, 1943, 1941, 1948, 1944, 2001, 1946, 1945, 1947, 1973, 1949,\n",
       "       1950, 1952, 1951, 1962, 1953, 1954, 1955, 1961, 1956, 1958, 1957,\n",
       "       1959, 1960, 1963, 1965, 1971, 1964, 1966, 1968, 1967, 1969, 1976,\n",
       "       1970, 1979, 1972, 1981, 1978, 2000, 1989, 1975, 1974, 1986, 1990,\n",
       "       2018, 1977, 1982, 1980, 1993, 1984, 1985, 1988, 1987, 2005, 1991,\n",
       "       2002, 1994, 1992, 1995, 2017, 1997, 1996, 2006, 1999, 1998, 2007,\n",
       "       2008, 2003, 2004, 2010, 2009, 2011, 2013, 2012, 2016, 2015, 2014,\n",
       "       2019, 2020], dtype=int64)"
      ]
     },
     "execution_count": 3,
     "metadata": {},
     "output_type": "execute_result"
    }
   ],
   "source": [
    "genre_names = data[\"genre\"].value_counts()\n",
    "country_names = data[\"country\"].value_counts()\n",
    "language_names = data[\"language\"].value_counts()\n",
    "\n",
    "\n",
    "def shorten_categories(categories, cutoff):\n",
    "    categorical_map = {}\n",
    "    for i in range(len(categories)):\n",
    "        if categories.values[i] >= cutoff:\n",
    "            categorical_map[categories.index[i]] = categories.index[i]\n",
    "        else:\n",
    "            categorical_map[categories.index[i]] = 'Other'\n",
    "    return categorical_map\n",
    "\n",
    "\n",
    "country_map = shorten_categories(genre_names, 588)\n",
    "data[\"genre\"] = data[\"genre\"].map(country_map)\n",
    "\n",
    "\n",
    "country_map = shorten_categories(language_names, 562)\n",
    "data[\"language\"] = data[\"language\"].map(country_map)\n",
    "\n",
    "\n",
    "country_map = shorten_categories(country_names, 588)\n",
    "data[\"country\"] = data[\"country\"].map(country_map)\n",
    "\n",
    "\n",
    "data[\"year\"].unique()\n",
    "\n",
    "\n",
    "def clean_TV_Movie(x):\n",
    "    if x == \"TV Movie 2019\":\n",
    "        return 2019\n",
    "    return int(x)\n",
    "    \n",
    "data[\"year\"] = data[\"year\"].apply(clean_TV_Movie)\n",
    "\n",
    "# STRING VE INTEGER DEĞERLER AYRIŞTIRILMALI\n",
    "\n",
    "data[\"country\"].unique()\n",
    "\n",
    "\n",
    "# %%\n",
    "data[\"language\"].unique()\n",
    "\n",
    "\n",
    "# %%\n",
    "data[\"duration\"].unique()\n",
    "\n",
    "\n",
    "# %%\n",
    "data[\"genre\"].unique()\n",
    "\n",
    "\n",
    "# %%\n",
    "data[\"year\"].unique()"
   ]
  },
  {
   "cell_type": "code",
   "execution_count": 4,
   "id": "6114e8e3",
   "metadata": {},
   "outputs": [],
   "source": [
    "# %%\n",
    "from sklearn.preprocessing import LabelEncoder\n",
    "\n",
    "le_country = LabelEncoder()\n",
    "data[\"country\"] = le_country.fit_transform(data[\"country\"])\n",
    "\n",
    "le_genre = LabelEncoder()\n",
    "data[\"genre\"] = le_genre.fit_transform(data[\"genre\"])\n",
    "\n",
    "le_language = LabelEncoder()\n",
    "data[\"language\"] = le_language.fit_transform(data[\"language\"])\n",
    "\n",
    "le_title = LabelEncoder()\n",
    "data[\"title\"] = le_title.fit_transform(data[\"title\"])\n",
    "\n",
    "\n",
    "# %%\n",
    "X = data.drop(\"title\",axis=1)\n",
    "y = data[\"title\"]\n"
   ]
  },
  {
   "cell_type": "code",
   "execution_count": 5,
   "id": "ec48113c",
   "metadata": {},
   "outputs": [
    {
     "data": {
      "text/plain": [
       "11625.72522244095"
      ]
     },
     "execution_count": 5,
     "metadata": {},
     "output_type": "execute_result"
    }
   ],
   "source": [
    "\n",
    "\n",
    "# %%\n",
    "from sklearn.tree import DecisionTreeRegressor\n",
    "decision_reg = DecisionTreeRegressor(random_state=0)\n",
    "decision_reg.fit(X,y.values)\n",
    "\n",
    "\n",
    "# %%\n",
    "y_pred = decision_reg.predict(X)\n",
    "\n",
    "\n",
    "# %%\n",
    "from sklearn.metrics import mean_squared_error, mean_absolute_error\n",
    "import numpy as np\n",
    "error = np.sqrt(mean_squared_error(y, y_pred))\n",
    "error\n",
    "\n"
   ]
  },
  {
   "cell_type": "code",
   "execution_count": 6,
   "id": "abd0a808",
   "metadata": {},
   "outputs": [
    {
     "data": {
      "text/plain": [
       "array([1894, 1906, 1911, 1912, 1913, 1914, 1915, 1916, 1917, 1918, 1919,\n",
       "       1920, 1921, 1922, 1923, 1924, 1925, 1926, 1927, 1928, 1929, 1930,\n",
       "       1931, 1932, 1933, 1934, 1935, 1936, 1937, 1938, 1939, 1940, 1941,\n",
       "       1942, 1943, 1944, 1945, 1946, 1947, 1948, 1949, 1950, 1951, 1952,\n",
       "       1953, 1954, 1955, 1956, 1957, 1958, 1959, 1960, 1961, 1962, 1963,\n",
       "       1964, 1965, 1966, 1967, 1968, 1969, 1970, 1971, 1972, 1973, 1974,\n",
       "       1975, 1976, 1977, 1978, 1979, 1980, 1981, 1982, 1983, 1984, 1985,\n",
       "       1986, 1987, 1988, 1989, 1990, 1991, 1992, 1993, 1994, 1995, 1996,\n",
       "       1997, 1998, 1999, 2000, 2001, 2002, 2003, 2004, 2005, 2006, 2007,\n",
       "       2008, 2009, 2010, 2011, 2012, 2013, 2014, 2015, 2016, 2017, 2018,\n",
       "       2019, 2020])"
      ]
     },
     "execution_count": 6,
     "metadata": {},
     "output_type": "execute_result"
    }
   ],
   "source": [
    "\n",
    "# %%\n",
    "X = np.array([[1965,100,'Japanese','Drama','Japan']])\n",
    "X\n",
    "\n",
    "\n",
    "# %%\n",
    "X[:,2] = le_language.transform(X[:,2])\n",
    "X[:,3] = le_genre.transform(X[:,3])\n",
    "X[:,4] = le_country.transform(X[:,4])\n",
    "\n",
    "\n",
    "# %%\n",
    "y_pred = decision_reg.predict(X)\n",
    "\n",
    "\n",
    "# %%\n",
    "y_pred = y_pred.astype(int)\n",
    "\n",
    "\n",
    "# %%\n",
    "le_title.inverse_transform(y_pred)\n",
    "\n",
    "\n",
    "# %%\n",
    "import pickle\n",
    "\n",
    "data = {\"model\":decision_reg, \"le_language\":le_language, \"le_genre\":le_genre, \"le_country\":le_country,\"le_title\":le_title}\n",
    "with open ('saved_steps.pkl', 'wb') as file:\n",
    "    pickle.dump(data,file)\n",
    "\n",
    "\n",
    "# %%\n",
    "import numpy as np\n",
    "x = (1894, 1906, 1912, 1911, 1919, 1913, 1914, 1915, 1916, 1917, 1918,\n",
    "       1920, 1921, 1924, 1922, 1923, 1925, 1926, 1935, 1927, 1928, 1983,\n",
    "       1929, 1930, 1931, 1932, 1937, 1938, 1933, 1934, 1936, 1940, 1939,\n",
    "       1942, 1943, 1941, 1948, 1944, 2001, 1946, 1945, 1947, 1973, 1949,\n",
    "       1950, 1952, 1951, 1962, 1953, 1954, 1955, 1961, 1956, 1958, 1957,\n",
    "       1959, 1960, 1963, 1965, 1971, 1964, 1966, 1968, 1967, 1969, 1976,\n",
    "       1970, 1979, 1972, 1981, 1978, 2000, 1989, 1975, 1974, 1986, 1990,\n",
    "       2018, 1977, 1982, 1980, 1993, 1984, 1985, 1988, 1987, 2005, 1991,\n",
    "       2002, 1994, 1992, 1995, 2017, 1997, 1996, 2006, 1999, 1998, 2007,\n",
    "       2008, 2003, 2004, 2010, 2009, 2011, 2013, 2012, 2016, 2015, 2014,\n",
    "       2019, 2020)\n",
    "arr = np.array(sorted(x))\n",
    "\n",
    "\n",
    "# %%\n",
    "arr"
   ]
  },
  {
   "cell_type": "code",
   "execution_count": null,
   "id": "73a606d4",
   "metadata": {},
   "outputs": [],
   "source": []
  }
 ],
 "metadata": {
  "kernelspec": {
   "display_name": "MRE",
   "language": "python",
   "name": "mre"
  },
  "language_info": {
   "codemirror_mode": {
    "name": "ipython",
    "version": 3
   },
   "file_extension": ".py",
   "mimetype": "text/x-python",
   "name": "python",
   "nbconvert_exporter": "python",
   "pygments_lexer": "ipython3",
   "version": "3.7.6"
  }
 },
 "nbformat": 4,
 "nbformat_minor": 5
}
